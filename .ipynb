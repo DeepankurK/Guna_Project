{
 "cells": [
  {
   "cell_type": "code",
   "execution_count": 168,
   "metadata": {},
   "outputs": [
    {
     "name": "stderr",
     "output_type": "stream",
     "text": [
      "[nltk_data] Downloading package genesis to /home/deepank/nltk_data...\n",
      "[nltk_data]   Package genesis is already up-to-date!\n",
      "[nltk_data] Downloading package wordnet to /home/deepank/nltk_data...\n",
      "[nltk_data]   Package wordnet is already up-to-date!\n",
      "[nltk_data] Downloading package punkt to /home/deepank/nltk_data...\n",
      "[nltk_data]   Package punkt is already up-to-date!\n",
      "[nltk_data] Downloading package averaged_perceptron_tagger to\n",
      "[nltk_data]     /home/deepank/nltk_data...\n",
      "[nltk_data]   Package averaged_perceptron_tagger is already up-to-\n",
      "[nltk_data]       date!\n"
     ]
    }
   ],
   "source": [
    "import pandas as pd \n",
    "import numpy as np\n",
    "import math\n",
    "import operator\n",
    "\n",
    "import nltk\n",
    "from nltk.corpus import wordnet as wn\n",
    "from nltk.corpus import genesis\n",
    "nltk.download('genesis')\n",
    "nltk.download('wordnet')\n",
    "nltk.download('punkt')\n",
    "nltk.download('averaged_perceptron_tagger')\n",
    "\n",
    "\n",
    "\n",
    "from nltk.tokenize import word_tokenize\n",
    "from nltk.stem.porter import PorterStemmer\n",
    "from nltk.stem import SnowballStemmer\n",
    "from nltk.stem.lancaster import LancasterStemmer\n",
    "from nltk.corpus import stopwords\n",
    "from sklearn.metrics import roc_auc_score\n"
   ]
  },
  {
   "cell_type": "code",
   "execution_count": 169,
   "metadata": {},
   "outputs": [
    {
     "data": {
      "text/html": [
       "<div>\n",
       "<style scoped>\n",
       "    .dataframe tbody tr th:only-of-type {\n",
       "        vertical-align: middle;\n",
       "    }\n",
       "\n",
       "    .dataframe tbody tr th {\n",
       "        vertical-align: top;\n",
       "    }\n",
       "\n",
       "    .dataframe thead th {\n",
       "        text-align: right;\n",
       "    }\n",
       "</style>\n",
       "<table border=\"1\" class=\"dataframe\">\n",
       "  <thead>\n",
       "    <tr style=\"text-align: right;\">\n",
       "      <th></th>\n",
       "      <th>Bio</th>\n",
       "      <th>Location</th>\n",
       "      <th>Tags</th>\n",
       "      <th>Jobs</th>\n",
       "    </tr>\n",
       "  </thead>\n",
       "  <tbody>\n",
       "    <tr>\n",
       "      <th>3</th>\n",
       "      <td>Engineer | Big Data | ML | Security</td>\n",
       "      <td>[3, 3]</td>\n",
       "      <td>13  for Data Structures13\\nProgramming\\n8  for Programming8\\nAlgorithms\\n6  for Algorithms6\\nCloud Computing\\n1 endorsement for Cloud Computing1\\nTools &amp; Technologies\\nPython\\n14  for Python14\\nLi...</td>\n",
       "      <td>1</td>\n",
       "    </tr>\n",
       "    <tr>\n",
       "      <th>5</th>\n",
       "      <td>• A technocrat with 6+ Years of experience in Security/Network administration and with technical expertise in the design, implementation, operations and support functions.\\n• Hands on exposure on ...</td>\n",
       "      <td>[3, 3]</td>\n",
       "      <td>DHCP\\n16  for DHCP16\\nOSPF\\n15  for OSPF15\\nFirewalls\\n10  for Firewalls10\\nDNS\\n7  for DNS7\\nBGP\\n7  for BGP7\\nData Center\\n6  for Data Center6\\nSecurity\\n6  for Security6\\nRouting\\n5  for Routin...</td>\n",
       "      <td>1</td>\n",
       "    </tr>\n",
       "    <tr>\n",
       "      <th>8</th>\n",
       "      <td>Data &amp; network security engineer \\n</td>\n",
       "      <td>[3, 3]</td>\n",
       "      <td>Security\\nInformation Security\\nCybersecurity</td>\n",
       "      <td>1</td>\n",
       "    </tr>\n",
       "    <tr>\n",
       "      <th>0</th>\n",
       "      <td>Rahul has 12+ years of experience in Cyber Security, IT RISK Consulting, Data Privacy and Managed Security Solutions,Network Security Solutions. Rahul’s experience spans across multiple industries...</td>\n",
       "      <td>[4, 4]</td>\n",
       "      <td>162  for Security99\\nFirewalls\\n172  for Firewalls99\\nVPN\\n68  for VPN68\\nVulnerability Assessment\\n64  for Vulnerability Assessment64\\nISO 27001\\n32  for ISO 2700132\\nPenetration Testing\\n32  for...</td>\n",
       "      <td>1</td>\n",
       "    </tr>\n",
       "    <tr>\n",
       "      <th>2</th>\n",
       "      <td>Having a work experience of 5 years in HR Domain .\\n In-depth and hands-on experience in managing the entire life cycle from Recruitment.\\n Having experience of working with the Top Most IT clie...</td>\n",
       "      <td>[4, 4]</td>\n",
       "      <td>Recruiting\\n37  for Recruiting37\\nExecutive Search\\n29  for Executive Search29\\nTechnical Recruiting\\n14  for Technical Recruiting14\\nBenefits Negotiation\\n13  for Benefits Negotiation13\\nSDLC\\n12...</td>\n",
       "      <td>1</td>\n",
       "    </tr>\n",
       "  </tbody>\n",
       "</table>\n",
       "</div>"
      ],
      "text/plain": [
       "                                                                                                                                                                                                       Bio  \\\n",
       "3                                                                                                                                                                      Engineer | Big Data | ML | Security   \n",
       "5  • A technocrat with 6+ Years of experience in Security/Network administration and with technical expertise in the design, implementation, operations and support functions.\\n• Hands on exposure on ...   \n",
       "8                                                                                                                                                                      Data & network security engineer \\n   \n",
       "0  Rahul has 12+ years of experience in Cyber Security, IT RISK Consulting, Data Privacy and Managed Security Solutions,Network Security Solutions. Rahul’s experience spans across multiple industries...   \n",
       "2  Having a work experience of 5 years in HR Domain .\\n In-depth and hands-on experience in managing the entire life cycle from Recruitment.\\n Having experience of working with the Top Most IT clie...   \n",
       "\n",
       "  Location  \\\n",
       "3   [3, 3]   \n",
       "5   [3, 3]   \n",
       "8   [3, 3]   \n",
       "0   [4, 4]   \n",
       "2   [4, 4]   \n",
       "\n",
       "                                                                                                                                                                                                      Tags  \\\n",
       "3  13  for Data Structures13\\nProgramming\\n8  for Programming8\\nAlgorithms\\n6  for Algorithms6\\nCloud Computing\\n1 endorsement for Cloud Computing1\\nTools & Technologies\\nPython\\n14  for Python14\\nLi...   \n",
       "5  DHCP\\n16  for DHCP16\\nOSPF\\n15  for OSPF15\\nFirewalls\\n10  for Firewalls10\\nDNS\\n7  for DNS7\\nBGP\\n7  for BGP7\\nData Center\\n6  for Data Center6\\nSecurity\\n6  for Security6\\nRouting\\n5  for Routin...   \n",
       "8                                                                                                                                                            Security\\nInformation Security\\nCybersecurity   \n",
       "0  162  for Security99\\nFirewalls\\n172  for Firewalls99\\nVPN\\n68  for VPN68\\nVulnerability Assessment\\n64  for Vulnerability Assessment64\\nISO 27001\\n32  for ISO 2700132\\nPenetration Testing\\n32  for...   \n",
       "2  Recruiting\\n37  for Recruiting37\\nExecutive Search\\n29  for Executive Search29\\nTechnical Recruiting\\n14  for Technical Recruiting14\\nBenefits Negotiation\\n13  for Benefits Negotiation13\\nSDLC\\n12...   \n",
       "\n",
       "   Jobs  \n",
       "3     1  \n",
       "5     1  \n",
       "8     1  \n",
       "0     1  \n",
       "2     1  "
      ]
     },
     "execution_count": 169,
     "metadata": {},
     "output_type": "execute_result"
    }
   ],
   "source": [
    "df=pd.read_excel (r'/home/deepank/Downloads/GUNA_WORK/Guna_Project/data_new.xlsx') \n",
    "pd.options.display.max_colwidth=200\n",
    "df=df.sort_values(by=['Jobs','Location'])\n",
    "df=df.dropna(how='any')\n",
    "df['Jobs']=df[\"Jobs\"].astype(\"category\")\n",
    "df['Location']=df['Location'].astype(\"category\")\n",
    "#print(df['Jobs'].unique())\n",
    "#print(df['Location'].unique())\n",
    "#right now pseudo weights are being used but this will chandge to actual geographical coordinates to calculate distance\n",
    "df['Location']=df['Location'].map({'NCR':[1,1],'Mumbai':[2,2],'Bangalore':[3,3], 'Chennai':[4,4]})\n",
    "df['Jobs']=df['Jobs'].map({'Data Security':1, 'Finance':2, 'HR':3, 'Machine Learning':4, 'Software Developer':5})\n",
    "df.head()"
   ]
  },
  {
   "cell_type": "code",
   "execution_count": 170,
   "metadata": {},
   "outputs": [],
   "source": [
    "def euclideanDistance(instance1, instance2):\n",
    "    distance = 0\n",
    "    for x in range(len(instance1)):\n",
    "        distance += pow((instance1[x] - instance2[x]), 2)\n",
    "    return math.sqrt(distance)\n"
   ]
  },
  {
   "cell_type": "code",
   "execution_count": 184,
   "metadata": {},
   "outputs": [],
   "source": [
    "#portfolio of peron who is searching\n",
    "\n",
    "#Self_P='HR'\n",
    "Self_P=3\n",
    "\n",
    "#Self_Loc='NCR'\n",
    "Self_Loc=[1,1]\n",
    "\n",
    "#portfolio of person who is being searched\n",
    "\n",
    "#P_search='Data Security'\n",
    "P_search=1\n",
    "k=2"
   ]
  },
  {
   "cell_type": "code",
   "execution_count": 188,
   "metadata": {},
   "outputs": [
    {
     "name": "stdout",
     "output_type": "stream",
     "text": [
      "\n",
      "Person:- 1\n",
      "Bio         I am a goal oriented individual with high work ethics, leadership skills, and positive attitude towards individual and organizational growth.\\n\\nBusiness Analytics and Consulting have always fasci...\n",
      "Location                                                                                                                                                                                                     [1, 1]\n",
      "Tags        Industry Knowledge\\nAndroid Development\\n3  for Android Development3\\nData Structures\\n3  for Data Structures3\\nProgramming\\n5  for Programming5\\nBusiness Analytics\\nReporting & Analysis\\n1 endors...\n",
      "Jobs                                                                                                                                                                                                              1\n",
      "Name: 6, dtype: object\n",
      "\n",
      "Person:- 2\n",
      "Bio         Extensive and in depth understanding of the key business principals and technologies, driving successful and dynamic financial organizations. Successful execution of Greenfield/Brownfield IT-Netwo...\n",
      "Location                                                                                                                                                                                                     [2, 2]\n",
      "Tags                                                                      Firewalls\\n6  for Firewalls6\\nWAN\\n5  for WAN5\\nNetwork Security\\n4  for Network Security4\\nOther Skills \\nNetworking\\n3  for Networking3\n",
      "Jobs                                                                                                                                                                                                              1\n",
      "Name: 1, dtype: object\n"
     ]
    }
   ],
   "source": [
    "data_x=df[df['Jobs']==P_search]\n",
    "distances=[]\n",
    "for x in range(len(data_x)):\n",
    "    dist = euclideanDistance(Self_Loc, data_x.iloc[x,1])\n",
    "    distances.append([x, dist])\n",
    "distances.sort(key=operator.itemgetter(1))\n",
    "\n",
    "for i in range(k):\n",
    "    print(\"\\nPerson:- \"+str(i+1))\n",
    "    print(data_x.iloc[distances[i][0]])\n",
    "    \n"
   ]
  },
  {
   "cell_type": "code",
   "execution_count": null,
   "metadata": {},
   "outputs": [],
   "source": []
  },
  {
   "cell_type": "code",
   "execution_count": null,
   "metadata": {},
   "outputs": [],
   "source": []
  }
 ],
 "metadata": {
  "kernelspec": {
   "display_name": "Python 3",
   "language": "python",
   "name": "python3"
  },
  "language_info": {
   "codemirror_mode": {
    "name": "ipython",
    "version": 3
   },
   "file_extension": ".py",
   "mimetype": "text/x-python",
   "name": "python",
   "nbconvert_exporter": "python",
   "pygments_lexer": "ipython3",
   "version": "3.6.8"
  }
 },
 "nbformat": 4,
 "nbformat_minor": 2
}
